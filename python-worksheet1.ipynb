{
 "cells": [
  {
   "cell_type": "code",
   "execution_count": 1,
   "id": "139b8809",
   "metadata": {},
   "outputs": [
    {
     "name": "stdout",
     "output_type": "stream",
     "text": [
      "10\n",
      "3628800\n"
     ]
    }
   ],
   "source": [
    "#11. Factorial of a number.\n",
    "a=int(input())\n",
    "b=1\n",
    "for i in range(1,a+1):\n",
    "    b=b*i\n",
    "print(b)"
   ]
  },
  {
   "cell_type": "code",
   "execution_count": 2,
   "id": "eb48f3fc",
   "metadata": {},
   "outputs": [
    {
     "name": "stdout",
     "output_type": "stream",
     "text": [
      "23\n",
      "Prime Number\n"
     ]
    }
   ],
   "source": [
    "#12. Prime or composite number.\n",
    "a=int(input())\n",
    "c=0\n",
    "for i in range(2,a):\n",
    "    if a%i==0:\n",
    "        c+=1\n",
    "if c!=0:\n",
    "    print('Composite Number')\n",
    "else:\n",
    "    print('Prime Number')\n"
   ]
  },
  {
   "cell_type": "code",
   "execution_count": 3,
   "id": "7926891e",
   "metadata": {},
   "outputs": [
    {
     "name": "stdout",
     "output_type": "stream",
     "text": [
      "aabbaa\n",
      "Palindrome\n"
     ]
    }
   ],
   "source": [
    "#13. String is Palindrome or not(Case -sensitive).\n",
    "a=input()\n",
    "b=a[::-1]\n",
    "if a==b:\n",
    "    print('Palindrome')\n",
    "else:\n",
    "    print('Not Palindrome')"
   ]
  },
  {
   "cell_type": "code",
   "execution_count": 4,
   "id": "1f73209d",
   "metadata": {},
   "outputs": [
    {
     "name": "stdout",
     "output_type": "stream",
     "text": [
      "aAbBBaA\n",
      "Palindrome\n"
     ]
    }
   ],
   "source": [
    "#13. String is Palindrome or not(Case -in sensitive).\n",
    "a=input()\n",
    "a=a.upper()\n",
    "b=a[::-1]\n",
    "if a==b:\n",
    "    print('Palindrome')\n",
    "else:\n",
    "    print('Not Palindrome')"
   ]
  },
  {
   "cell_type": "code",
   "execution_count": 5,
   "id": "8430a324",
   "metadata": {},
   "outputs": [
    {
     "name": "stdout",
     "output_type": "stream",
     "text": [
      "3 4\n",
      "5.0\n"
     ]
    }
   ],
   "source": [
    "#14. Third side of right angle triangle.\n",
    "import math\n",
    "a,b=input().split()\n",
    "a=int(a)\n",
    "b=int(b)\n",
    "c=0\n",
    "c=math.sqrt(a**2+b**2)\n",
    "print(c)"
   ]
  },
  {
   "cell_type": "code",
   "execution_count": 16,
   "id": "48147fb1",
   "metadata": {},
   "outputs": [
    {
     "name": "stdout",
     "output_type": "stream",
     "text": [
      "abcddd\n",
      "a:1,b:1,c:1,d:3\n"
     ]
    }
   ],
   "source": [
    "#15. Frequency of Chareacters in string.\n",
    "a=input()\n",
    "b=0\n",
    "c=''\n",
    "d=''\n",
    "for i in a:\n",
    "    b=a.count(i)\n",
    "    d+=i\n",
    "    if d.count(i)==1:\n",
    "        c=c+i+':'+str(b)+\",\"\n",
    "    \n",
    "print(c.rstrip(','))"
   ]
  },
  {
   "cell_type": "code",
   "execution_count": null,
   "id": "2e48bbb9",
   "metadata": {},
   "outputs": [],
   "source": []
  }
 ],
 "metadata": {
  "kernelspec": {
   "display_name": "Python 3",
   "language": "python",
   "name": "python3"
  },
  "language_info": {
   "codemirror_mode": {
    "name": "ipython",
    "version": 3
   },
   "file_extension": ".py",
   "mimetype": "text/x-python",
   "name": "python",
   "nbconvert_exporter": "python",
   "pygments_lexer": "ipython3",
   "version": "3.8.8"
  }
 },
 "nbformat": 4,
 "nbformat_minor": 5
}
