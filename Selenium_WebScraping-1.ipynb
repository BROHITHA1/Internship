{
 "cells": [
  {
   "cell_type": "code",
   "execution_count": 1,
   "id": "841295bb",
   "metadata": {},
   "outputs": [
    {
     "name": "stdout",
     "output_type": "stream",
     "text": [
      "Requirement already satisfied: selenium in c:\\users\\dell\\anaconda3\\lib\\site-packages (4.1.0)\n",
      "Requirement already satisfied: trio-websocket~=0.9 in c:\\users\\dell\\anaconda3\\lib\\site-packages (from selenium) (0.9.2)\n",
      "Requirement already satisfied: urllib3[secure]~=1.26 in c:\\users\\dell\\anaconda3\\lib\\site-packages (from selenium) (1.26.4)\n",
      "Requirement already satisfied: trio~=0.17 in c:\\users\\dell\\anaconda3\\lib\\site-packages (from selenium) (0.19.0)\n",
      "Requirement already satisfied: sniffio in c:\\users\\dell\\anaconda3\\lib\\site-packages (from trio~=0.17->selenium) (1.2.0)\n",
      "Requirement already satisfied: outcome in c:\\users\\dell\\anaconda3\\lib\\site-packages (from trio~=0.17->selenium) (1.1.0)\n",
      "Requirement already satisfied: idna in c:\\users\\dell\\anaconda3\\lib\\site-packages (from trio~=0.17->selenium) (2.10)\n",
      "Requirement already satisfied: async-generator>=1.9 in c:\\users\\dell\\anaconda3\\lib\\site-packages (from trio~=0.17->selenium) (1.10)\n",
      "Requirement already satisfied: attrs>=19.2.0 in c:\\users\\dell\\anaconda3\\lib\\site-packages (from trio~=0.17->selenium) (20.3.0)\n",
      "Requirement already satisfied: sortedcontainers in c:\\users\\dell\\anaconda3\\lib\\site-packages (from trio~=0.17->selenium) (2.3.0)\n",
      "Requirement already satisfied: cffi>=1.14 in c:\\users\\dell\\anaconda3\\lib\\site-packages (from trio~=0.17->selenium) (1.14.5)\n",
      "Requirement already satisfied: pycparser in c:\\users\\dell\\anaconda3\\lib\\site-packages (from cffi>=1.14->trio~=0.17->selenium) (2.20)\n",
      "Requirement already satisfied: wsproto>=0.14 in c:\\users\\dell\\anaconda3\\lib\\site-packages (from trio-websocket~=0.9->selenium) (1.0.0)\n",
      "Requirement already satisfied: certifi in c:\\users\\dell\\anaconda3\\lib\\site-packages (from urllib3[secure]~=1.26->selenium) (2020.12.5)\n",
      "Requirement already satisfied: cryptography>=1.3.4 in c:\\users\\dell\\anaconda3\\lib\\site-packages (from urllib3[secure]~=1.26->selenium) (3.4.7)\n",
      "Requirement already satisfied: pyOpenSSL>=0.14 in c:\\users\\dell\\anaconda3\\lib\\site-packages (from urllib3[secure]~=1.26->selenium) (20.0.1)\n",
      "Requirement already satisfied: six>=1.5.2 in c:\\users\\dell\\anaconda3\\lib\\site-packages (from pyOpenSSL>=0.14->urllib3[secure]~=1.26->selenium) (1.15.0)\n",
      "Requirement already satisfied: h11<1,>=0.9.0 in c:\\users\\dell\\anaconda3\\lib\\site-packages (from wsproto>=0.14->trio-websocket~=0.9->selenium) (0.12.0)\n"
     ]
    }
   ],
   "source": [
    "!pip install selenium"
   ]
  },
  {
   "cell_type": "code",
   "execution_count": 2,
   "id": "caa72201",
   "metadata": {},
   "outputs": [],
   "source": [
    "import selenium\n",
    "import pandas as pd\n",
    "import numpy as np\n",
    "from selenium import webdriver"
   ]
  },
  {
   "cell_type": "code",
   "execution_count": 3,
   "id": "35518ccc",
   "metadata": {},
   "outputs": [
    {
     "name": "stderr",
     "output_type": "stream",
     "text": [
      "<ipython-input-3-66d5abec237a>:1: DeprecationWarning: executable_path has been deprecated, please pass in a Service object\n",
      "  driver=webdriver.Edge(r\"C:/Users/DELL/Downloads/edgedriver_win64/msedgedriver.exe\")\n"
     ]
    }
   ],
   "source": [
    "driver=webdriver.Edge(r\"C:/Users/DELL/Downloads/edgedriver_win64/msedgedriver.exe\")"
   ]
  },
  {
   "cell_type": "code",
   "execution_count": 4,
   "id": "ba7d893b",
   "metadata": {},
   "outputs": [],
   "source": [
    "#driver.close()"
   ]
  },
  {
   "cell_type": "code",
   "execution_count": 10,
   "id": "c8256c1c",
   "metadata": {},
   "outputs": [],
   "source": [
    "driver.get('https://www.naukri.com/')"
   ]
  },
  {
   "cell_type": "code",
   "execution_count": 12,
   "id": "d61f8002",
   "metadata": {},
   "outputs": [
    {
     "name": "stderr",
     "output_type": "stream",
     "text": [
      "<ipython-input-12-abc167e756e2>:2: DeprecationWarning: find_element_by_* commands are deprecated. Please use find_element() instead\n",
      "  search_job=driver.find_element_by_id('qsb-keyword-sugg')\n",
      "<ipython-input-12-abc167e756e2>:6: DeprecationWarning: find_element_by_* commands are deprecated. Please use find_element() instead\n",
      "  search_location=driver.find_element_by_id('qsb-location-sugg')\n"
     ]
    }
   ],
   "source": [
    "#Entering details in search criteria for designations\n",
    "search_job=driver.find_element_by_id('qsb-keyword-sugg')\n",
    "search_job.send_keys('Data Analyst')\n",
    "\n",
    "#Entering deatils in loaction field\n",
    "search_location=driver.find_element_by_id('qsb-location-sugg')\n",
    "search_location.send_keys('Bangalore')"
   ]
  },
  {
   "cell_type": "code",
   "execution_count": 13,
   "id": "81d5cd92",
   "metadata": {},
   "outputs": [
    {
     "name": "stderr",
     "output_type": "stream",
     "text": [
      "<ipython-input-13-78850dd289c7>:2: DeprecationWarning: find_element_by_* commands are deprecated. Please use find_element() instead\n",
      "  search_btn=driver.find_element_by_xpath(\"//button[@class='btn']\")\n"
     ]
    }
   ],
   "source": [
    "#Clicking on search button\n",
    "search_btn=driver.find_element_by_xpath(\"//button[@class='btn']\")\n",
    "search_btn.click()"
   ]
  },
  {
   "cell_type": "code",
   "execution_count": 14,
   "id": "13cdb044",
   "metadata": {},
   "outputs": [
    {
     "name": "stderr",
     "output_type": "stream",
     "text": [
      "<ipython-input-14-bbb89f1c1e9b>:7: DeprecationWarning: find_elements_by_* commands are deprecated. Please use find_elements() instead\n",
      "  title_tags=driver.find_elements_by_xpath(\"//a[@class='title fw500 ellipsis']\")\n",
      "<ipython-input-14-bbb89f1c1e9b>:12: DeprecationWarning: find_elements_by_* commands are deprecated. Please use find_elements() instead\n",
      "  location_tags=driver.find_elements_by_xpath(\"//li[@class='fleft grey-text br2 placeHolderLi location']\")\n",
      "<ipython-input-14-bbb89f1c1e9b>:17: DeprecationWarning: find_elements_by_* commands are deprecated. Please use find_elements() instead\n",
      "  company_tags=driver.find_elements_by_xpath(\"//a[@class='subTitle ellipsis fleft']\")\n",
      "<ipython-input-14-bbb89f1c1e9b>:22: DeprecationWarning: find_elements_by_* commands are deprecated. Please use find_elements() instead\n",
      "  exp_tags=driver.find_elements_by_xpath(\"//li[@class='fleft grey-text br2 placeHolderLi experience']/span\")\n"
     ]
    },
    {
     "data": {
      "text/plain": [
       "['1-6 Yrs',\n",
       " '4-9 Yrs',\n",
       " '5-10 Yrs',\n",
       " '2-5 Yrs',\n",
       " '1-6 Yrs',\n",
       " '3-5 Yrs',\n",
       " '3-6 Yrs',\n",
       " '5-10 Yrs',\n",
       " '3-7 Yrs',\n",
       " '3-8 Yrs']"
      ]
     },
     "execution_count": 14,
     "metadata": {},
     "output_type": "execute_result"
    }
   ],
   "source": [
    "# We will create empty list \n",
    "job_title=[]\n",
    "job_location=[]\n",
    "company_name=[]\n",
    "experience_req=[]\n",
    "#Extracting all the tags with the job titles.\n",
    "title_tags=driver.find_elements_by_xpath(\"//a[@class='title fw500 ellipsis']\")\n",
    "for i in title_tags:\n",
    "    job_title.append(i.text)\n",
    "    job=job_title[:10]\n",
    "#Extracting all the tags with the job location.\n",
    "location_tags=driver.find_elements_by_xpath(\"//li[@class='fleft grey-text br2 placeHolderLi location']\")\n",
    "for i in location_tags:\n",
    "    job_location.append(i.text)\n",
    "    location=job_location[:10]\n",
    "#Extracting all the tags with the company names.\n",
    "company_tags=driver.find_elements_by_xpath(\"//a[@class='subTitle ellipsis fleft']\")\n",
    "for i in company_tags:\n",
    "    company_name.append(i.text)\n",
    "    company=company_name[:10]\n",
    "#Extracting all the tags with the experince required.\n",
    "exp_tags=driver.find_elements_by_xpath(\"//li[@class='fleft grey-text br2 placeHolderLi experience']/span\")\n",
    "for i in exp_tags:\n",
    "    experience_req.append(i.text)\n",
    "    experience=experience_req[:10]\n",
    "experience\n"
   ]
  },
  {
   "cell_type": "code",
   "execution_count": 15,
   "id": "0c0184b4",
   "metadata": {},
   "outputs": [
    {
     "data": {
      "text/html": [
       "<div>\n",
       "<style scoped>\n",
       "    .dataframe tbody tr th:only-of-type {\n",
       "        vertical-align: middle;\n",
       "    }\n",
       "\n",
       "    .dataframe tbody tr th {\n",
       "        vertical-align: top;\n",
       "    }\n",
       "\n",
       "    .dataframe thead th {\n",
       "        text-align: right;\n",
       "    }\n",
       "</style>\n",
       "<table border=\"1\" class=\"dataframe\">\n",
       "  <thead>\n",
       "    <tr style=\"text-align: right;\">\n",
       "      <th></th>\n",
       "      <th>Job</th>\n",
       "      <th>Location</th>\n",
       "      <th>Company</th>\n",
       "      <th>Experience Required</th>\n",
       "    </tr>\n",
       "  </thead>\n",
       "  <tbody>\n",
       "    <tr>\n",
       "      <th>0</th>\n",
       "      <td>Hiring -Data Analyst, Business Analyst, MIS An...</td>\n",
       "      <td>Bangalore/Bengaluru</td>\n",
       "      <td>Flipkart</td>\n",
       "      <td>1-6 Yrs</td>\n",
       "    </tr>\n",
       "    <tr>\n",
       "      <th>1</th>\n",
       "      <td>Data Analyst / Engineer</td>\n",
       "      <td>Chennai, Bangalore/Bengaluru</td>\n",
       "      <td>Animaker India Private Limited</td>\n",
       "      <td>4-9 Yrs</td>\n",
       "    </tr>\n",
       "    <tr>\n",
       "      <th>2</th>\n",
       "      <td>DG - Business Analyst - Data Visualization &amp; A...</td>\n",
       "      <td>Bangalore/Bengaluru</td>\n",
       "      <td>ExecBoardinAsia</td>\n",
       "      <td>5-10 Yrs</td>\n",
       "    </tr>\n",
       "    <tr>\n",
       "      <th>3</th>\n",
       "      <td>Data Analyst</td>\n",
       "      <td>Bangalore/Bengaluru</td>\n",
       "      <td>NetraDyne Technology India Private Limited</td>\n",
       "      <td>2-5 Yrs</td>\n",
       "    </tr>\n",
       "    <tr>\n",
       "      <th>4</th>\n",
       "      <td>Senior Data Analyst</td>\n",
       "      <td>Bangalore/Bengaluru</td>\n",
       "      <td>Rapido</td>\n",
       "      <td>1-6 Yrs</td>\n",
       "    </tr>\n",
       "    <tr>\n",
       "      <th>5</th>\n",
       "      <td>Assistant/deputy Manager - Geo-spatial Data An...</td>\n",
       "      <td>Gurgaon/Gurugram, bangalore</td>\n",
       "      <td>Maruti Suzuki India</td>\n",
       "      <td>3-5 Yrs</td>\n",
       "    </tr>\n",
       "    <tr>\n",
       "      <th>6</th>\n",
       "      <td>Supervisor Role, Data Analyst, six sigma, Anal...</td>\n",
       "      <td>Bangalore/Bengaluru</td>\n",
       "      <td>Concentrix Daksh Services</td>\n",
       "      <td>3-6 Yrs</td>\n",
       "    </tr>\n",
       "    <tr>\n",
       "      <th>7</th>\n",
       "      <td>Manager - Data Analyst</td>\n",
       "      <td>Bangalore/Bengaluru</td>\n",
       "      <td>Genpact</td>\n",
       "      <td>5-10 Yrs</td>\n",
       "    </tr>\n",
       "    <tr>\n",
       "      <th>8</th>\n",
       "      <td>Data Analyst</td>\n",
       "      <td>Bangalore/Bengaluru</td>\n",
       "      <td>SWAI TECHNOLOGIES PRIVATE LIMITED</td>\n",
       "      <td>3-7 Yrs</td>\n",
       "    </tr>\n",
       "    <tr>\n",
       "      <th>9</th>\n",
       "      <td>Job Opportunity For Clinical Data Analyst - CDM</td>\n",
       "      <td>Kolkata, Hyderabad/Secunderabad, Pune, Chennai...</td>\n",
       "      <td>Paradigm IT</td>\n",
       "      <td>3-8 Yrs</td>\n",
       "    </tr>\n",
       "  </tbody>\n",
       "</table>\n",
       "</div>"
      ],
      "text/plain": [
       "                                                 Job  \\\n",
       "0  Hiring -Data Analyst, Business Analyst, MIS An...   \n",
       "1                            Data Analyst / Engineer   \n",
       "2  DG - Business Analyst - Data Visualization & A...   \n",
       "3                                       Data Analyst   \n",
       "4                                Senior Data Analyst   \n",
       "5  Assistant/deputy Manager - Geo-spatial Data An...   \n",
       "6  Supervisor Role, Data Analyst, six sigma, Anal...   \n",
       "7                             Manager - Data Analyst   \n",
       "8                                       Data Analyst   \n",
       "9    Job Opportunity For Clinical Data Analyst - CDM   \n",
       "\n",
       "                                            Location  \\\n",
       "0                                Bangalore/Bengaluru   \n",
       "1                       Chennai, Bangalore/Bengaluru   \n",
       "2                                Bangalore/Bengaluru   \n",
       "3                                Bangalore/Bengaluru   \n",
       "4                                Bangalore/Bengaluru   \n",
       "5                        Gurgaon/Gurugram, bangalore   \n",
       "6                                Bangalore/Bengaluru   \n",
       "7                                Bangalore/Bengaluru   \n",
       "8                                Bangalore/Bengaluru   \n",
       "9  Kolkata, Hyderabad/Secunderabad, Pune, Chennai...   \n",
       "\n",
       "                                      Company Experience Required  \n",
       "0                                    Flipkart             1-6 Yrs  \n",
       "1              Animaker India Private Limited             4-9 Yrs  \n",
       "2                             ExecBoardinAsia            5-10 Yrs  \n",
       "3  NetraDyne Technology India Private Limited             2-5 Yrs  \n",
       "4                                      Rapido             1-6 Yrs  \n",
       "5                         Maruti Suzuki India             3-5 Yrs  \n",
       "6                   Concentrix Daksh Services             3-6 Yrs  \n",
       "7                                     Genpact            5-10 Yrs  \n",
       "8           SWAI TECHNOLOGIES PRIVATE LIMITED             3-7 Yrs  \n",
       "9                                 Paradigm IT             3-8 Yrs  "
      ]
     },
     "execution_count": 15,
     "metadata": {},
     "output_type": "execute_result"
    }
   ],
   "source": [
    "Data_Analyst_df=pd.DataFrame({'Job':job,'Location':location,'Company':company,'Experience Required':experience})\n",
    "Data_Analyst_df"
   ]
  },
  {
   "cell_type": "code",
   "execution_count": null,
   "id": "b3b63bc5",
   "metadata": {},
   "outputs": [],
   "source": [
    "#2\n",
    "driver.get('https://www.naukri.com/')"
   ]
  },
  {
   "cell_type": "code",
   "execution_count": null,
   "id": "cc0a36b8",
   "metadata": {},
   "outputs": [],
   "source": [
    "#Entering details in search criteria for designations\n",
    "search_job=driver.find_element_by_id('qsb-keyword-sugg')\n",
    "search_job.send_keys('Data Scientist')\n",
    "#Entering deatils in loaction field\n",
    "search_location=driver.find_element_by_id('qsb-location-sugg')\n",
    "search_location.send_keys('Bangalore')\n",
    "#Clicking on search button\n",
    "search_btn=driver.find_element_by_xpath(\"//button[@class='btn']\")\n",
    "search_btn.click()"
   ]
  },
  {
   "cell_type": "code",
   "execution_count": null,
   "id": "5140906f",
   "metadata": {},
   "outputs": [],
   "source": [
    "# We will create empty list \n",
    "job_title=[]\n",
    "job_location=[]\n",
    "company_name=[]\n",
    "#Extracting all the tags with the job titles.\n",
    "title_tags=driver.find_elements_by_xpath(\"//a[@class='title fw500 ellipsis']\")\n",
    "for i in title_tags:\n",
    "    job_title.append(i.text)\n",
    "    job=job_title[:10]\n",
    "#Extracting all the tags with the job location.\n",
    "location_tags=driver.find_elements_by_xpath(\"//li[@class='fleft grey-text br2 placeHolderLi location']\")\n",
    "for i in location_tags:\n",
    "    job_location.append(i.text)\n",
    "    location=job_location[:10]\n",
    "#Extracting all the tags with the company names.\n",
    "company_tags=driver.find_elements_by_xpath(\"//a[@class='subTitle ellipsis fleft']\")\n",
    "for i in company_tags:\n",
    "    company_name.append(i.text)\n",
    "    company=company_name[:10]\n",
    "company"
   ]
  },
  {
   "cell_type": "code",
   "execution_count": null,
   "id": "28b4e2b3",
   "metadata": {},
   "outputs": [],
   "source": [
    "Data_scientist_df=pd.DataFrame({'Job':job,'Location':location,'Company':company})\n",
    "Data_scientist_df"
   ]
  },
  {
   "cell_type": "code",
   "execution_count": null,
   "id": "ae3b88ba",
   "metadata": {},
   "outputs": [],
   "source": [
    "#3\n",
    "driver.get('https://www.naukri.com/')"
   ]
  },
  {
   "cell_type": "code",
   "execution_count": null,
   "id": "2b8c2ef2",
   "metadata": {},
   "outputs": [],
   "source": [
    "#Entering details in search criteria for designations\n",
    "search_job=driver.find_element_by_id('qsb-keyword-sugg')\n",
    "search_job.send_keys('Data Scientist')\n",
    "search_job=driver.find_element_by_id('qsb-location-sugg')\n",
    "search_job.send_keys('Delhi / NCR')\n",
    "#Clicking on search button\n",
    "search_btn=driver.find_element_by_xpath(\"//button[@class='btn']\")\n",
    "search_btn.click()\n"
   ]
  },
  {
   "cell_type": "code",
   "execution_count": null,
   "id": "ddfbff10",
   "metadata": {},
   "outputs": [],
   "source": [
    "filter_salary=driver.find_elements_by_xpath(\"//p[@class='grey-text lH20 fleft ml-8 txtLbl']//span\")\n",
    "for i in filter_salary:\n",
    "    #print(i.text)\n",
    "     if i.text=='3-6 Lakhs':\n",
    "        i.click()\n",
    "        break"
   ]
  },
  {
   "cell_type": "code",
   "execution_count": null,
   "id": "380fe4e0",
   "metadata": {},
   "outputs": [],
   "source": [
    "# We will create empty list \n",
    "job_title=[]\n",
    "job_location=[]\n",
    "company_name=[]\n",
    "experience_req=[]\n",
    "#Extracting all the tags with the job titles.\n",
    "title_tags=driver.find_elements_by_xpath(\"//a[@class='title fw500 ellipsis']\")\n",
    "for i in title_tags:\n",
    "    job_title.append(i.text)\n",
    "    job=job_title[:10]\n",
    "#Extracting all the tags with the job location.\n",
    "location_tags=driver.find_elements_by_xpath(\"//li[@class='fleft grey-text br2 placeHolderLi location']\")\n",
    "for i in location_tags:\n",
    "    job_location.append(i.text)\n",
    "    location=job_location[:10]\n",
    "#Extracting all the tags with the company names.\n",
    "company_tags=driver.find_elements_by_xpath(\"//a[@class='subTitle ellipsis fleft']\")\n",
    "for i in company_tags:\n",
    "    company_name.append(i.text)\n",
    "    company=company_name[:10]\n",
    "#Extracting all the tags with the experince required.\n",
    "exp_tags=driver.find_elements_by_xpath(\"//li[@class='fleft grey-text br2 placeHolderLi experience']/span\")\n",
    "for i in exp_tags:\n",
    "    experience_req.append(i.text)\n",
    "    experience=experience_req[:10]\n",
    "experience\n"
   ]
  },
  {
   "cell_type": "code",
   "execution_count": null,
   "id": "cd14c778",
   "metadata": {},
   "outputs": [],
   "source": [
    "Data_Sci_df=pd.DataFrame({'Job':job,'Location':location,'Company':company,'Experience Required':experience})\n",
    "Data_Sci_df"
   ]
  },
  {
   "cell_type": "code",
   "execution_count": null,
   "id": "ceacc5df",
   "metadata": {},
   "outputs": [],
   "source": [
    "#4\n",
    "driver.get('https://www.flipkart.com/')"
   ]
  },
  {
   "cell_type": "code",
   "execution_count": null,
   "id": "7fe1b209",
   "metadata": {},
   "outputs": [],
   "source": [
    "#locating the search bar\n",
    "search_bar=driver.find_element_by_xpath(\"//input[@class='_3704LK']\")\n",
    "search_bar.send_keys('sunglasses')"
   ]
  },
  {
   "cell_type": "code",
   "execution_count": null,
   "id": "3ce80563",
   "metadata": {},
   "outputs": [],
   "source": [
    "button=driver.find_element_by_xpath(\"//button[@class='L0Z3Pu']\")\n",
    "button.click()"
   ]
  },
  {
   "cell_type": "code",
   "execution_count": null,
   "id": "f9c3ce5b",
   "metadata": {},
   "outputs": [],
   "source": [
    "brand=[]\n",
    "desc=[]\n",
    "price=[]\n",
    "discount=[]\n",
    "glass_brand1=driver.find_elements_by_xpath(\"//div[@class='_2WkVRV']\")\n",
    "for i in glass_brand1:\n",
    "    #print(i.text)\n",
    "    brand.append(i.text)\n",
    "descp=driver.find_elements_by_xpath(\"//a[@class='IRpwTa']\")\n",
    "for i in descp:\n",
    "    #print(i.text)\n",
    "    desc.append(i.text)\n",
    "pri=driver.find_elements_by_xpath(\"//div[@class='_30jeq3']\")\n",
    "for i in pri:\n",
    "    #print(i.text)\n",
    "    price.append(i.text)\n",
    "disc=driver.find_elements_by_xpath(\"//div[@class='_3Ay6Sb']\")\n",
    "for i in disc:\n",
    "    #print(i.text)\n",
    "    discount.append(i.text)\n",
    "\n",
    "next_btn1=driver.find_element_by_xpath(\"//a[@class='_1LKTO3']//span\")\n",
    "next_btn1.click()\n",
    "\n"
   ]
  },
  {
   "cell_type": "code",
   "execution_count": null,
   "id": "a54996d9",
   "metadata": {},
   "outputs": [],
   "source": [
    "# on second page\n",
    "glass_brand1=driver.find_elements_by_xpath(\"//div[@class='_2WkVRV']\")\n",
    "for i in glass_brand1:\n",
    "    #print(i.text)\n",
    "    brand.append(i.text)\n",
    "descp=driver.find_elements_by_xpath(\"//a[@class='IRpwTa']\")\n",
    "for i in descp:\n",
    "    #print(i.text)\n",
    "    desc.append(i.text)\n",
    "pri=driver.find_elements_by_xpath(\"//div[@class='_30jeq3']\")\n",
    "for i in pri:\n",
    "    #print(i.text)\n",
    "    price.append(i.text)\n",
    "disc=driver.find_elements_by_xpath(\"//div[@class='_3Ay6Sb']\")\n",
    "for i in disc:\n",
    "    #print(i.text)\n",
    "    discount.append(i.text)\n",
    "next_btn1=driver.find_element_by_xpath(\"//a[@class='_1LKTO3']//span\")\n",
    "next_btn1.click()\n"
   ]
  },
  {
   "cell_type": "code",
   "execution_count": null,
   "id": "5fc4b139",
   "metadata": {},
   "outputs": [],
   "source": [
    "#on third page\n",
    "glass_brand1=driver.find_elements_by_xpath(\"//div[@class='_2WkVRV']\")\n",
    "for i in glass_brand1:\n",
    "    #print(i.text)\n",
    "    brand.append(i.text)\n",
    "descp=driver.find_elements_by_xpath(\"//a[@class='IRpwTa']\")\n",
    "for i in descp:\n",
    "    #print(i.text)\n",
    "    desc.append(i.text)\n",
    "pri=driver.find_elements_by_xpath(\"//div[@class='_30jeq3']\")\n",
    "for i in pri:\n",
    "    #print(i.text)\n",
    "    price.append(i.text)   \n",
    "disc=driver.find_elements_by_xpath(\"//div[@class='_3Ay6Sb']\")\n",
    "for i in disc:\n",
    "    #print(i.text)\n",
    "    discount.append(i.text)\n",
    "\n",
    "print(len(brand))\n",
    "\n",
    "print(len(desc))\n",
    "\n",
    "print(len(price))\n",
    "\n",
    "print(len(discount))"
   ]
  },
  {
   "cell_type": "code",
   "execution_count": null,
   "id": "357906f5",
   "metadata": {},
   "outputs": [],
   "source": [
    "brand=brand[:100]\n",
    "desc=desc[:100]\n",
    "price=price[:100]\n",
    "discount=discount[:100]\n",
    "\n",
    "sunglass_df=pd.DataFrame({'Brand':brand,'Description':desc,'Price':price,'Discount':discount})\n",
    "sunglass_df"
   ]
  },
  {
   "cell_type": "code",
   "execution_count": null,
   "id": "1cef4898",
   "metadata": {},
   "outputs": [],
   "source": [
    "#5\n",
    "url=\"https://www.flipkart.com/apple-iphone-11-black-64-gb-includes- earpods-power- adapter/p/itm0f37c2240b217?pid=MOBFKCTSVZAXUHGR&lid=LSTMOBFKC TSVZAXUHGREPBFGI&marketplace.\"\n",
    "driver.get(url)"
   ]
  },
  {
   "cell_type": "code",
   "execution_count": null,
   "id": "81277927",
   "metadata": {},
   "outputs": [],
   "source": [
    "# Expand review button\n",
    "expand_button= driver.find_element_by_xpath(\"//div[@class ='_3UAT2v _16PBlm']/span\")\n",
    "expand_button.click()"
   ]
  },
  {
   "cell_type": "code",
   "execution_count": null,
   "id": "1c507f0e",
   "metadata": {},
   "outputs": [],
   "source": [
    "urls=[]\n",
    "short_review=[]\n",
    "complete_review=[]\n",
    "rating=[]\n",
    "find=driver.find_elements_by_xpath(\"//a[@class='ge-49M']\")\n",
    "for i in find:\n",
    "    urls.append(i.get_attribute('href'))\n",
    "    \n",
    "    \n",
    "for j in urls:\n",
    "    driver.get(j)\n",
    "    \n",
    "    #for scrapping the number of stars\n",
    "    \n",
    "    for j in driver.find_elements_by_xpath(\"//div[@class='_3LWZlK _1BLPMq']\"):\n",
    "        rating.append(j.text)\n",
    "    #for scrapping the short review\n",
    "    \n",
    "    for k in driver.find_elements_by_xpath(\"//p[@class='_2-N8zT']\"):\n",
    "        short_review.append(k.text)\n",
    "    #for scrapping the complete review   \n",
    "  \n",
    "    for l in driver.find_elements_by_xpath(\"//div[@class='t-ZTKy']/div/div\"):\n",
    "        complete_review.append(l.text)"
   ]
  },
  {
   "cell_type": "code",
   "execution_count": null,
   "id": "1c3367c7",
   "metadata": {},
   "outputs": [],
   "source": [
    "print(len(rating))\n",
    "print(len(short_review))\n",
    "print(len(complete_review))"
   ]
  },
  {
   "cell_type": "code",
   "execution_count": null,
   "id": "708ae1fd",
   "metadata": {},
   "outputs": [],
   "source": [
    "rating=rating[:85]\n",
    "short_review=short_review[:85]\n",
    "complete_review=complete_review[:85]\n",
    "\n",
    "iphone_df=pd.DataFrame({'Rating':rating,'Review_summary':short_review,'Full_Review':complete_review})\n",
    "iphone_df"
   ]
  },
  {
   "cell_type": "code",
   "execution_count": null,
   "id": "0adbc295",
   "metadata": {},
   "outputs": [],
   "source": [
    "#6\n",
    "driver.get('https://www.flipkart.com/')"
   ]
  },
  {
   "cell_type": "code",
   "execution_count": null,
   "id": "fd928519",
   "metadata": {},
   "outputs": [],
   "source": [
    "driver.find_element_by_xpath(\"//input[@class='_3704LK']\").send_keys('sneakers')"
   ]
  },
  {
   "cell_type": "code",
   "execution_count": null,
   "id": "0704a4e5",
   "metadata": {},
   "outputs": [],
   "source": [
    "driver.find_element_by_xpath(\"//button[@class='L0Z3Pu']\").click()"
   ]
  },
  {
   "cell_type": "code",
   "execution_count": null,
   "id": "6cff4b80",
   "metadata": {},
   "outputs": [],
   "source": [
    "url = driver.find_elements_by_xpath('//nav[@class=\"yFHi8N\"]//a')\n",
    "\n",
    "# extract all the product search links from the above search result\n",
    "prod_urls=[]\n",
    "for i in url[:5]:\n",
    "    prod_urls.append(i.get_attribute('href'))"
   ]
  },
  {
   "cell_type": "code",
   "execution_count": null,
   "id": "5c4c83b5",
   "metadata": {},
   "outputs": [],
   "source": [
    "# code to extract brand details\n",
    "brand = []\n",
    "for i in prod_urls:\n",
    "    driver.get(i)\n",
    "    try:\n",
    "        prod_brand = driver.find_elements_by_xpath('//div[@class=\"_2WkVRV\"]')\n",
    "        for j in prod_brand:\n",
    "            brand.append(j.text)\n",
    "    except:\n",
    "        brand.append(\"---\")\n",
    "\n",
    "# code to extract product description\n",
    "descriptn = []\n",
    "for i in prod_urls:\n",
    "    driver.get(i)\n",
    "    try:\n",
    "        prod_descriptn = driver.find_elements_by_xpath('//a[@class=\"IRpwTa\"]')\n",
    "        for j in prod_descriptn:\n",
    "            descriptn.append(j.text)\n",
    "    except:\n",
    "        descriptn.append(\"---\")\n",
    "\n",
    "# code to extract price of the product\n",
    "price = []\n",
    "for i in prod_urls:\n",
    "    driver.get(i)\n",
    "    try:\n",
    "        prod_price = driver.find_elements_by_xpath('//div[@class=\"_30jeq3\"]')\n",
    "        for j in prod_price:\n",
    "            price.append(j.text)\n",
    "    except:\n",
    "        price.append(\"---\")\n",
    "\n",
    "# code to extract the discount percentage\n",
    "discount = []\n",
    "for i in prod_urls:\n",
    "    driver.get(i)\n",
    "    try:\n",
    "        prod_discount = driver.find_elements_by_xpath('//div[@class=\"_3Ay6Sb\"]//span')\n",
    "        for j in prod_discount:\n",
    "            discount.append(j.text)\n",
    "    except:\n",
    "        discount.append(\"---\")\n",
    "\n",
    "# checking the length to get the data frame\n",
    "print(\"Lengths of columns:\", len(brand), len(descriptn), len(price), len(discount))\n"
   ]
  },
  {
   "cell_type": "code",
   "execution_count": null,
   "id": "7a026ce3",
   "metadata": {},
   "outputs": [],
   "source": [
    "Sneaker_df = pd.DataFrame({'Sneaker Brand':brand[:100],'Description':descriptn[:100],'Price':price[:100],'Discount':discount[:100]})\n",
    "Sneaker_df"
   ]
  },
  {
   "cell_type": "code",
   "execution_count": null,
   "id": "e202b049",
   "metadata": {},
   "outputs": [],
   "source": [
    "#7\n",
    "url = \"https://www.myntra.com/shoes\"\n",
    "driver.get(url)"
   ]
  },
  {
   "cell_type": "code",
   "execution_count": null,
   "id": "f0f50033",
   "metadata": {},
   "outputs": [],
   "source": [
    "# code to click on the color filter for \"Black\"\n",
    "color_filter = driver.find_element_by_xpath('/html/body/div[2]/div/div[1]/main/div[3]/div[1]/section/div/div[6]/ul/li[1]/label/div')\n",
    "color_filter.click()"
   ]
  },
  {
   "cell_type": "code",
   "execution_count": null,
   "id": "8d2cac26",
   "metadata": {},
   "outputs": [],
   "source": [
    "# code to click on the price filter for \"Rs. 5387 to Rs. 10525\" as “Rs. 6649 to Rs. 13099” is not available\n",
    "price_filter = driver.find_element_by_xpath('/html/body/div[2]/div/div[1]/main/div[3]/div[1]/section/div/div[5]/ul/li[2]/label/div')\n",
    "price_filter.click()"
   ]
  },
  {
   "cell_type": "code",
   "execution_count": null,
   "id": "b9a8ee88",
   "metadata": {},
   "outputs": [],
   "source": [
    "url = driver.find_elements_by_xpath('//li[@class=\"pagination-number\"]//a')\n",
    "\n",
    "# extract all the shoe links from the above search result\n",
    "shoe_urls=[]\n",
    "for i in url[:5]:\n",
    "    shoe_urls.append(i.get_attribute('href'))"
   ]
  },
  {
   "cell_type": "code",
   "execution_count": null,
   "id": "ce21f616",
   "metadata": {},
   "outputs": [],
   "source": [
    "# code to extract shoe brand details\n",
    "sbrand = []\n",
    "for i in shoe_urls:\n",
    "    driver.get(i)\n",
    "    try:\n",
    "        shoe_brand = driver.find_elements_by_xpath('//div[@class=\"product-productMetaInfo\"]//h3')\n",
    "        for j in shoe_brand:\n",
    "            sbrand.append(j.text)\n",
    "    except:\n",
    "        sbrand.append(\"---\")\n",
    "\n",
    "# code to extract shoe description\n",
    "sdescriptn = []\n",
    "for i in shoe_urls:\n",
    "    driver.get(i)\n",
    "    try:\n",
    "        shoe_descriptn = driver.find_elements_by_xpath('//div[@class=\"product-productMetaInfo\"]//h4')\n",
    "        for j in shoe_descriptn:\n",
    "            sdescriptn.append(j.text)\n",
    "    except:\n",
    "        sdescriptn.append(\"---\")\n",
    "description=[]\n",
    "for i in range(0, len(sdescriptn), 2):\n",
    "    description.append(sdescriptn[i])\n",
    "\n",
    "# code to extract shoe price\n",
    "sprice = []\n",
    "for i in shoe_urls:\n",
    "    driver.get(i)\n",
    "    try:\n",
    "        shoe_price = driver.find_elements_by_xpath(\"//div[@class='product-price']\")\n",
    "        for j in shoe_price:\n",
    "            sprice.append(j.text)\n",
    "    except:\n",
    "        sprice.append(\"---\")"
   ]
  },
  {
   "cell_type": "code",
   "execution_count": null,
   "id": "b9265413",
   "metadata": {},
   "outputs": [],
   "source": [
    "Shoe_df = pd.DataFrame({'Shoe Brand':sbrand[:100],'Description':description[:100],'Price':sprice[:100]})\n",
    "Shoe_df"
   ]
  },
  {
   "cell_type": "code",
   "execution_count": null,
   "id": "92c5bd94",
   "metadata": {},
   "outputs": [],
   "source": [
    "#8\n",
    "url = \"https://www.amazon.in/\"\n",
    "driver.get(url)"
   ]
  },
  {
   "cell_type": "code",
   "execution_count": null,
   "id": "1abcc697",
   "metadata": {},
   "outputs": [],
   "source": [
    "# code to write laptop in the search box\n",
    "search_prod = driver.find_element_by_xpath('//input[@id=\"twotabsearchtextbox\"]')\n",
    "search_prod.send_keys(\"Laptop\")\n",
    "\n",
    "# code to click on the search button\n",
    "search_btn = driver.find_element_by_xpath('//input[@id=\"nav-search-submit-button\"]')\n",
    "search_btn.click()"
   ]
  },
  {
   "cell_type": "code",
   "execution_count": null,
   "id": "a6c1f090",
   "metadata": {},
   "outputs": [],
   "source": [
    "#locating the core i7 filter\n",
    "filter_button=driver.find_elements_by_xpath(\"//a[@class='a-link-normal s-navigation-item']/span\")\n",
    "for i in filter_button:\n",
    "    if i.text=='Intel Core i7':\n",
    "        i.click()\n",
    "        break\n",
    "#locating the core i9 filter\n",
    "filter_button=driver.find_elements_by_xpath(\"//a[@class='a-link-normal s-navigation-item']/span\")\n",
    "for i in filter_button:\n",
    "    if i.text=='Intel Core i9':\n",
    "        i.click()\n",
    "        break"
   ]
  },
  {
   "cell_type": "code",
   "execution_count": null,
   "id": "ee327fb9",
   "metadata": {},
   "outputs": [],
   "source": [
    "# code to extract laptop title\n",
    "title=[]\n",
    "lappy_title = driver.find_elements_by_xpath('//span[@class=\"a-size-medium a-color-base a-text-normal\"]')\n",
    "for i in lappy_title[:10]:\n",
    "    title.append(i.text)\n",
    "\n",
    "# code to extract laptop rating\n",
    "rating=[]\n",
    "lappy_rating = driver.find_elements_by_class_name(\"a-icon-alt\")\n",
    "for i in lappy_rating[:10]:\n",
    "    rating.append(i.get_attribute('textContent'))\n",
    "\n",
    "# code to extract laptop price\n",
    "price=[]\n",
    "lappy_price = driver.find_elements_by_xpath('//span[@class=\"a-price-whole\"]')\n",
    "for i in lappy_price[:10]:\n",
    "    price.append(i.text)"
   ]
  },
  {
   "cell_type": "code",
   "execution_count": null,
   "id": "c5f97361",
   "metadata": {},
   "outputs": [],
   "source": [
    "Laptop_df = pd.DataFrame({'Laptop Title':title[:10],'Rating':rating[:10],'Price':price[:10]})\n",
    "Laptop_df"
   ]
  },
  {
   "cell_type": "code",
   "execution_count": null,
   "id": "5fd873f1",
   "metadata": {},
   "outputs": [],
   "source": [
    "#9\n",
    "driver.get(\"https://www.ambitionbox.com/jobs/search?tag=Data%20Scientist&location=Noida\")"
   ]
  },
  {
   "cell_type": "code",
   "execution_count": null,
   "id": "1a4a6689",
   "metadata": {},
   "outputs": [],
   "source": [
    "### Making empty lists for Company Name,No of days ago,and rating:-\n",
    "company =[]\n",
    "days =[]\n",
    "rating=[]\n",
    "## Scrapping data for Company Name:-\n",
    "comp = driver.find_elements_by_xpath(\"//p[@class='company body-medium']\")\n",
    "for i in comp:\n",
    "    company.append(i.text)\n",
    "#print(company) \n",
    "#print(len(company))\n",
    "\n",
    "## Scrapping data for Days ago post:-\n",
    "days_ago = driver.find_elements_by_xpath(\"//span[@class='body-small-l']\")\n",
    "for i in days_ago:\n",
    "    days.append(i.text)\n",
    "days=days[::2]\n",
    "#print(len(days[::2]))\n",
    "\n",
    "##  Scrapping Rating:-\n",
    "rate = driver.find_elements_by_xpath(\"//span[@class='body-small']\")\n",
    "for i in rate:\n",
    "    rating.append(i.text)\n",
    "#print(rating) "
   ]
  },
  {
   "cell_type": "code",
   "execution_count": null,
   "id": "90af4ee4",
   "metadata": {},
   "outputs": [],
   "source": [
    "Ambition_df = pd.DataFrame({'Company Name':company[:10],'Rating':rating[:10],'Days':days[:10]})\n",
    "Ambition_df"
   ]
  },
  {
   "cell_type": "code",
   "execution_count": 16,
   "id": "220961bb",
   "metadata": {},
   "outputs": [],
   "source": [
    "#10\n",
    "driver.get('https://www.ambitionbox.com/salaries')"
   ]
  },
  {
   "cell_type": "code",
   "execution_count": 17,
   "id": "94865a78",
   "metadata": {},
   "outputs": [
    {
     "name": "stderr",
     "output_type": "stream",
     "text": [
      "<ipython-input-17-1ab07a5f4f39>:1: DeprecationWarning: find_element_by_* commands are deprecated. Please use find_element() instead\n",
      "  search_job = driver.find_element_by_xpath('//input[@class=\"component-input tt-input\"]')\n"
     ]
    }
   ],
   "source": [
    "search_job = driver.find_element_by_xpath('//input[@class=\"component-input tt-input\"]')\n",
    "search_job.send_keys(\"Data Scientist\")"
   ]
  },
  {
   "cell_type": "code",
   "execution_count": 18,
   "id": "2cda9ddd",
   "metadata": {},
   "outputs": [
    {
     "name": "stderr",
     "output_type": "stream",
     "text": [
      "<ipython-input-18-e8a81b385e78>:2: DeprecationWarning: find_element_by_* commands are deprecated. Please use find_element() instead\n",
      "  search_btn = driver.find_element_by_xpath('//button[@class=\"ab_btn search-btn round component-search-btn\"]')\n"
     ]
    }
   ],
   "source": [
    "# code to click on the search button\n",
    "search_btn = driver.find_element_by_xpath('//button[@class=\"ab_btn search-btn round component-search-btn\"]')\n",
    "search_btn.click()"
   ]
  },
  {
   "cell_type": "code",
   "execution_count": 19,
   "id": "d3628c45",
   "metadata": {},
   "outputs": [
    {
     "name": "stderr",
     "output_type": "stream",
     "text": [
      "<ipython-input-19-22eae4105ffb>:1: DeprecationWarning: find_element_by_* commands are deprecated. Please use find_element() instead\n",
      "  search_sal=driver.find_element_by_xpath('//a[@class=\"gs-title\"]').click()\n"
     ]
    }
   ],
   "source": [
    "search_sal=driver.find_element_by_xpath('//a[@class=\"gs-title\"]').click()"
   ]
  },
  {
   "cell_type": "code",
   "execution_count": 20,
   "id": "881fb4c8",
   "metadata": {},
   "outputs": [
    {
     "name": "stdout",
     "output_type": "stream",
     "text": [
      "------------Company Name-------------------------\n",
      "[]\n"
     ]
    },
    {
     "name": "stderr",
     "output_type": "stream",
     "text": [
      "<ipython-input-20-4551b3fcfb5d>:8: DeprecationWarning: find_elements_by_* commands are deprecated. Please use find_elements() instead\n",
      "  company = driver.find_elements_by_xpath(\"//div[@class='name']/a\")\n"
     ]
    }
   ],
   "source": [
    "name =[]\n",
    "total_salary=[]\n",
    "min_salary =[]\n",
    "max_salary =[]\n",
    "avg_salary =[]\n",
    "exp =[]\n",
    "## Scrapping Company Name:\n",
    "company = driver.find_elements_by_xpath(\"//div[@class='name']/a\")\n",
    "for i in company:\n",
    "    name.append(i.text)\n",
    "print(\"------------Company Name-------------------------\")    \n",
    "print(name)"
   ]
  },
  {
   "cell_type": "code",
   "execution_count": null,
   "id": "d04602ed",
   "metadata": {},
   "outputs": [],
   "source": []
  }
 ],
 "metadata": {
  "kernelspec": {
   "display_name": "Python 3",
   "language": "python",
   "name": "python3"
  },
  "language_info": {
   "codemirror_mode": {
    "name": "ipython",
    "version": 3
   },
   "file_extension": ".py",
   "mimetype": "text/x-python",
   "name": "python",
   "nbconvert_exporter": "python",
   "pygments_lexer": "ipython3",
   "version": "3.8.8"
  }
 },
 "nbformat": 4,
 "nbformat_minor": 5
}
